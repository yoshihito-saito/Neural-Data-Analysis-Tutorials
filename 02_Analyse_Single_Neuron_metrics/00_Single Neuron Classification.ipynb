{
 "cells": [
  {
   "cell_type": "markdown",
   "id": "c7959fef-33f5-442c-b614-6ea0aabe163e",
   "metadata": {},
   "source": [
    "---\n",
    "# Check quality metrics\n",
    "\n",
    "## Why Use Quality Metrics?\n",
    "\n",
    "### 1. Spike Sorting Is Not Perfect\n",
    "#### Spike sorting algorithms, while advanced, are not immune to errors. Misclassifications or over-merging of spikes into incorrect clusters can occur, leading to inaccurate interpretations of neural activity.\n",
    "\n",
    "### 2. Bias in Scientific Conclusions\n",
    "#### Including poorly isolated clusters (neurons) in analyses may bias scientific conclusions. Contaminated data can obscure meaningful patterns or introduce artifacts into the results, undermining the reliability of the findings.\n",
    "\n",
    "\n",
    "## For details: https://allensdk.readthedocs.io/en/latest/_static/examples/nb/ecephys_quality_metrics.html\n",
    "\n",
    "---"
   ]
  },
  {
   "cell_type": "code",
   "execution_count": null,
   "id": "02f5ccc9-d6f4-4660-becf-524867fa60ca",
   "metadata": {},
   "outputs": [],
   "source": []
  }
 ],
 "metadata": {
  "kernelspec": {
   "display_name": "Python 3 (ipykernel)",
   "language": "python",
   "name": "python3"
  },
  "language_info": {
   "codemirror_mode": {
    "name": "ipython",
    "version": 3
   },
   "file_extension": ".py",
   "mimetype": "text/x-python",
   "name": "python",
   "nbconvert_exporter": "python",
   "pygments_lexer": "ipython3",
   "version": "3.9.20"
  }
 },
 "nbformat": 4,
 "nbformat_minor": 5
}
